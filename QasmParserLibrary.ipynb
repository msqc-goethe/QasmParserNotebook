{
 "cells": [
  {
   "cell_type": "markdown",
   "id": "60752f8b-d055-4455-8cbe-98d1b4118bbd",
   "metadata": {},
   "source": [
    "# OpenQASM Parser Library\n",
    "\n",
    "This notebook is intended to provide an insight into the _OpenQASM Parser Library_, able to parse a common quantum circuit description format used in the context of variational algorithms into the corresponding OpenQASM representation, utilizing parallel computing. \n",
    "\n",
    "## Prerequisites\n",
    "\n",
    "To be able to use the library additional libraries must be installed. These include:\n",
    "- OpenMP\n",
    "- Thread Building Blocks (TBB)\n",
    "- fmt\n",
    "\n",
    "Further, we are using [*cmake*](https://cmake.org/download/) (already installed on many systems or part of the package manager) as our generator and GCC as our compiler. If not yet the default C/C++ compiler, install the *GNU Compiler Collection* (GCC) as your compiler to use the library. Some older versions of the GCC may must be upgraded to be used with the library. The reason for that is the necessity to use the execution policies first implemented in the C++17 standard. The GCC can be an globally existing binary, but other than that I would highly emphasize using a virtual environment, since we will install the library as an C++ Python binding and one probably does not want to install everything globally and eventually mess with the system on a global scale. An easy to use and project compatible virtual environment manager is [*Anaconda*](https://docs.anaconda.com/free/anaconda/install/index.html). Install Anaconda on your system and [create a virtual environment](https://docs.conda.io/projects/conda/en/latest/user-guide/tasks/manage-environments.html) with a fairly new Python version.\n",
    "\n",
    "Assuming the used environment manager is Anaconda, installing the additional necessary libraries can be done like:\n",
    "```\n",
    "conda install -c conda-forge openmp\n",
    "conda install -c conda-forge tbb\n",
    "conda install -c conda-forge fmt\n",
    "```\n",
    "\n",
    "## Adding the Library to the Python Packages\n",
    "\n",
    "After cloning the project in an appropriate location, we need to build and install the library. Therefore, the location of your Python *site-packages* folder must be known. The path can be found using `python -m site` command in a shell/terminal session. Be aware that the python binary pointed to is the correct one, meaning the one you want to be using. Verify by first executing `which python` and confirm that the path leads to your desired binary. In a virtual environment this should point to a binary in your virtual environment folder, e.g. `/Users/maxmustermann/opt/anaconda3/envs/environment_name/bin/python3.10` in Unix-like systems. The site packages should also be found in a similar location, e.g. `/Users/maxmustermann/opt/anaconda3/envs/environment_name/lib/python3.10/site-packages`.\n",
    "\n",
    "After that, we are ready to build and install. In the library directory created when cloning the library from GitHub, we create a directory for our build. After changing into that directory we build the library and finally install it. For Unix-like systems the commands should be the following:\n",
    "```\n",
    "mkdir build && cd build\n",
    "cmake .. -DCMAKE_C_COMPILER=/path_or_alias/to/your/gcc-binary -DCMAKE_CXX_COMPILER=/path_or_alias/to/your/g++-binary -DPYTHON_LIBRARY_DIR=\"<your_path_to_your_site-packages>\" -DPYTHON_EXECUTABLE=\"<your_path_to_your_python_binary>\"\n",
    "cmake --build .\n",
    "cmake --install .\n",
    "```\n",
    "(The compiler must only be provided if the GCC is not yet the default compiler. Quotation marks are necessary!)\n",
    "\n",
    "The library should now be installed as a python package. You can confirm by changing into the python site-packages directory and reviewing the content. A shared *openqasmparser* library should now be visible. You could also fire up a python session and try to import the library \n",
    "```\n",
    "python\n",
    "> import openqasmparser as qprs\n",
    ">\n",
    "```\n",
    "If no error message pops up you are ***ready to go!***"
   ]
  },
  {
   "cell_type": "code",
   "execution_count": 1,
   "id": "d6a1aad1-2305-4f43-b69a-45db49385221",
   "metadata": {},
   "outputs": [],
   "source": [
    "import openqasmparser as qprs"
   ]
  },
  {
   "cell_type": "markdown",
   "id": "3c0b63b9-6224-477c-b553-e5dda5ffafba",
   "metadata": {},
   "source": [
    "## OpenQASM\n",
    "\n",
    "_Open Quantum Assembly Language_ (OpenQASM) is considered to be the de facto standard when it comes to communicating with a quantum computing device. It builds a bridge from describing the circuit on classical hardware to actually implementing it on quantum hardware. Such representation, residing in between the classical and quantum part of the workflow, are called _intermediate representations_. The sole purpose of these intermediate representations is to be able to easily construct quantum circuits and be able to implement those on various different quantum computing devices with (mostly) no additional cost for the user. \n",
    "\n",
    "Currently, two major OpenQASM versions are available, [version 2](https://arxiv.org/abs/1707.03429) and [3](https://arxiv.org/abs/2104.14722). Version 3 further extends the capabilities of the intermediate representation and provides the user with more advanced possibilities to construct circuits and instruct quantum devices. As they describe it: [In principle, any quantum computation could be described using OpenQASM 2, but there is a need to describe a broader set of circuits beyond the language of qubits and gates.][1] The library presented here is indifferent between the two versions since the more advanced instructions working with the circuit described/generated are not (yet) implemented, neither in the library implementation itself nor in the input representation. Nevertheless, both versions are supported, the only difference is in the headers specific to the specified version used. Both headers can be seen in the following:\n",
    "\n",
    "[1]: https://arxiv.org/abs/2104.14722"
   ]
  },
  {
   "cell_type": "code",
   "execution_count": 2,
   "id": "6b1074c0-4711-46a6-a9b6-31672f650156",
   "metadata": {},
   "outputs": [
    {
     "name": "stdout",
     "output_type": "stream",
     "text": [
      "OPENQASM 2.0;\n",
      "include \"qelib1.inc\";\n",
      "qreg q[1];\n",
      "creg c[1];\n",
      "\n",
      "OPENQASM 3.0;\n",
      "include \"stdgates.inc\";\n",
      "qubit[105553128063024] q;\n",
      "bit[105553128063024] c;\n",
      "\n"
     ]
    }
   ],
   "source": [
    "header_v2 = qprs.parse_circuit(\"\", version=2)\n",
    "header_v3 = qprs.parse_circuit(\"\", version=3)\n",
    "\n",
    "print(header_v2)\n",
    "print(header_v3)"
   ]
  },
  {
   "cell_type": "markdown",
   "id": "2aa03bfb-e3cc-4fc8-b80c-100cd26881cb",
   "metadata": {},
   "source": [
    "## Input Representation\n",
    "\n",
    "The goal of the library is to minimize the effort needed to instruct quantum computing devices. The instruction can happen directly, on quantum hardware level, or using the intermediate representations, e.g. OpenQASM instruction files. Instructing quantum devices manually is too tedious and time consuming for the upcoming larger scale quantum devices and poses a threat for a bottleneck in the quantum computing workflow. Intermediate representations can be constructed once and used on different devices without the need of knowing the exact hardware capabilities of the devices at hand. The library's input representation used could possibly be an intermediate representation by itself, but considering the broad usage and support of OpenQASM using OpenQASM as an intermediate representation simplifies and generalizes the usage on most devices. \n",
    "\n",
    "OpenQASM is a code-like language with which one could write his desired circuits by hand. But even these files will become of such large scale for problems suitable on future more capable devices that writing these by hand will also reach its feasible limits. Therefore, we propose a different representation, easy to generate and well suited for the usage in the variational quantum algorithms context. \n",
    "\n",
    "The Pauli operations form together with the identity a complete basis set, meaning we can construct any arbitrary operation using these four by suitable transformation. They also have an added advantage, since they are such basic operations nearly every quantum computing device has the hardware capabilities to perform these operations directly. The input file to generate can be a simple text file. The Pauli operations are represented by the capital letters *X, Y, Z* and the identity as the capital letter *I*. We now represent the ansatz, a (parameterized) circuit, as an unitary collection of *m* operators which is basically a product of *m* sequentially applied unitaries:\n",
    "\n",
    "$$ \\mathbb{U}(\\boldsymbol{\\theta}) = \\mathbb{U}_m(\\theta_m) \\dots \\mathbb{U}_2(\\theta_2) \\mathbb{U}_1(\\theta_1)$$\n",
    "\n",
    "Therfore, our input file consists of *m* lines, one for each operator unitary of the ansatz. Each of the unitaries is composed of multiple gates, parameterized and unparameterized. Looking at a single unitary acting on a system with *N* qubits in its exponentiated form\n",
    "\n",
    "$$ \\mathbb{U}_i(\\theta_i) = \\exp\\{-i \\theta_i \\hat{a}_i^{\\otimes N}\\} $$\n",
    "where \n",
    "$$ \\hat{a}_i^{\\otimes N} = \\otimes_{l=1}^N \\Theta_{i,l}\\ :\\ \\Theta \\in \\{X,Y,Z,I\\}$$\n",
    "we find the Pauli and identity operations in \\\\(\\hat{a}\\\\). This tensor product will build the foundation of our input representation, where the tensor product of Paulis and identity is written as a string \\\\(S_i\\\\). Consider the unitary \\\\(\\exp{-i \\theta \\sigma_x \\otimes \\sigma_I \\otimes \\sigma_x}\\\\), the string representation as part of the input file to the library would simply be *XIX*. Another variable to set in the input file is the coefficient \\\\(c_i\\\\), seperated from the string by whitespace and in floating point accuracy, corresponding to the real-valued parameter \\\\(\\theta_i\\\\). The last parameter of our input representation if not to be seen in the mathematical description of the operator. In order to group commuting operators together, reducing the computational effort when optimizing the parameters, we introduce an enumerating grouping index \\\\(p_i\\\\). The same index indicates commuting operators, while different grouping index parameters indicate non-commuting operators which must be optimized individually. Putting everything together we have our input representation to generate:\n",
    "\n",
    "$$ A \\equiv \\{(S_i, c_i, p_i)\\ :\\ i \\in \\{1, \\dots m\\}\\} $$\n",
    "\n",
    "To get a better understanding let's look at an example. Consider an ansatz for \\\\(N=3\\\\) qubits and \\\\(m=2\\\\) independent operators as \n",
    "\n",
    "$$ \\exp\\{-i \\cdot 1.0 \\cdot \\sigma_y \\otimes \\sigma_y \\otimes \\sigma_I\\} \\exp\\{-i \\cdot 1.5 \\cdot \\sigma_y \\otimes \\sigma_I \\otimes \\sigma_z\\} $$\n",
    "\n",
    "The corresponding input file to our library would look as follows:\n",
    "> YYI 1.0 1\n",
    "> \n",
    "> YIZ 1.5 2\n",
    "\n",
    "Note how the grouping index enumerates, indicating independent operators. The same could be achieved by setting both grouping index parameters to 0, the algorithm then enumerates independent parameters by itself. The same ansatz assuming commuting operators which can be grouped would look similar\n",
    "> YYI 1.0 1\n",
    ">\n",
    "> YIZ 1.5 1\n",
    "\n",
    "but with the same grouping index to indicate the dependency.\n",
    "\n"
   ]
  },
  {
   "cell_type": "markdown",
   "id": "d1d41d81-fafe-462d-8263-fbaba872b322",
   "metadata": {},
   "source": [
    "## Using the Library\n",
    "\n",
    "Now that we know how to construct an input file to be parsed into the OpenQASM representation, let's see how the library actually works. Therefore, take a look at the following examplaratory input ansatz. The ansatz is already in our library's desired input format and part of an actual ansatz used in the variational context on today's quantum computing devices. The ansatz can also be found in the additional data provided. "
   ]
  },
  {
   "cell_type": "code",
   "execution_count": 3,
   "id": "5888d5c4-1a37-4340-9e23-ed6a8b02e028",
   "metadata": {},
   "outputs": [
    {
     "name": "stdout",
     "output_type": "stream",
     "text": [
      "         S_i  c_i  p_i\n",
      "IIIIIIIIIIXX  1.0    1\n",
      "IIIIIIIIIIXY  1.0    2\n",
      "IIIIIIIIIIXZ  1.0    3\n",
      "IIIIIIIIIIYX  1.0    4\n",
      "IIIIIIIIIIYY  1.0    5\n",
      "IIIIIIIIIIYZ  1.0    6\n",
      "IIIIIIIIIIZX  1.0    7\n",
      "IIIIIIIIIIZY  1.0    8\n",
      "IIIIIIIIIIZZ  1.0    9\n",
      "IIIIIIIIIXIX  1.0   10\n"
     ]
    }
   ],
   "source": [
    "import pandas as pd\n",
    "\n",
    "ex_input = pd.read_csv(\"h2short.ansatz\", sep=\" \", header=None, names=[\"S_i\", \"c_i\", \"p_i\"])\n",
    "print(ex_input.to_string(index=False))\n"
   ]
  },
  {
   "cell_type": "markdown",
   "id": "60637487-affb-4c8d-8152-78570bb55a5e",
   "metadata": {},
   "source": [
    "This is quite the compact format compared to other representations, as we will see soon. We can immediatly see two things when looking at the input file. First, the operators are all independent, which can be seen by the enumerating grouping index parameter \\\\(p_i\\\\). And second, this input file is actually unparameterized. All coefficients are set to 1, who's multiplication has no observable effect. \n",
    "\n",
    "To parse the input file in its OpenQASM representation, the library provides a function *parse_circuit*. Let's take a look at the function's help manual to see what we can do with it and how to call it."
   ]
  },
  {
   "cell_type": "code",
   "execution_count": 4,
   "id": "ab380554-0f6c-42e2-bf95-2d0d72acdbf3",
   "metadata": {},
   "outputs": [
    {
     "name": "stdout",
     "output_type": "stream",
     "text": [
      "Help on built-in function parse_circuit in module openqasmparser:\n",
      "\n",
      "parse_circuit(...) method of builtins.PyCapsule instance\n",
      "    parse_circuit(input_fn: str, *, version: int = 2, use_omp: bool = False, grouping: bool = True, output_fn: Optional[str] = None, multiplier: Optional[float] = None) -> str\n",
      "    \n",
      "    Parse an ansatz into the corresponding OpenQASM representation, parallel execution enabled.\n",
      "    @param input_fn: Path to the input file to parse.\n",
      "    @param version: OpenQASM version to use, default 2.\n",
      "    @param use_omp: Use OpenMP parallelism, default execution policy parallelism.\n",
      "    @param grouping: Set true to use indication for grouping commuting operators.\n",
      "    @param output_fn: Path to (non-)existing file to store the OpenQASMrepresentation file. (optional)\n",
      "    @param multiplier: Floating value to be multiplied to each operator. (optional)\n",
      "\n"
     ]
    }
   ],
   "source": [
    "help(qprs.parse_circuit)"
   ]
  },
  {
   "cell_type": "markdown",
   "id": "d0ff0659-7939-4e94-a21c-3e58b7949fb8",
   "metadata": {},
   "source": [
    "We can specify five different variables. The only variable that must be set is the path to the input file. This variable is positional, meaning we need to specify this variable first when calling the function. All other variables are key-word only. In order to specify them you have to set the variable at call in the standard pythonic way, e.g. *use_omp=True*.\n",
    "\n",
    "- *version*\n",
    "  The version can be set to be OpenQASM v2 or v3. The only real difference is the header specific to that version in the output OpenQASM file. If not provided or set to a value other than 2 or 3, the default version used is version 2.\n",
    "\n",
    "- *use_omp*\n",
    "  If parallelization is supported by your system, it is enabled by default. One can, for scientific/benchmarking purposes for example, decide which parallelization framework to use. If set to *True* OpenMP is the underlying parallelization framework, otherwise and by default the C++17 execution policies are used. These have the added advantage of automatic compiler optimization, leaving less room for unnecassary occupancy of resources or errors in general. If one wishes, he can tailor the OpenMP implementation in the C++ library source code to his specific needs.\n",
    "\n",
    "- *grouping*\n",
    "  To indicate commuting operators we use the grouping index. This index is visible in the OpenQASM representation as parameter preceeded by an dollar sign. If one does not want to group anyways and may encounter problems with this representation, e.g. when using qiskit simulators, disabling this behaviour can be controlled using this variable\n",
    "\n",
    "- *output_fn*\n",
    "  If specified, the OpenQASM representation is written to the file in that location. This value is optional. Nevertheless, the output of the function is still accessible in the current session, e.g. stored in a variable bound to that call.\n",
    "\n",
    "- *multiplier*\n",
    "  Value to be multiplied to each operator. Again, this is an optional parameter which has no default.\n",
    "\n",
    "Now, calling the function and displaying the output looks like this:"
   ]
  },
  {
   "cell_type": "code",
   "execution_count": 5,
   "id": "40bb5a3e-4e54-4661-a343-953562abb107",
   "metadata": {},
   "outputs": [
    {
     "name": "stdout",
     "output_type": "stream",
     "text": [
      "OPENQASM 3.0;\n",
      "include \"stdgates.inc\";\n",
      "qubit[12] q;\n",
      "bit[12] c;\n",
      "\n",
      "// New operator from line 1\n",
      "ry(pi/2) q[11];\n",
      "ry(pi/2) q[10];\n",
      "cx q[10], q[11];\n",
      "rz(2*1*$[1]) q[11];\n",
      "cx q[10], q[11];\n",
      "ry(-pi/2) q[10];\n",
      "ry(-pi/2) q[11];\n",
      "\n",
      "// New operator from line 2\n",
      "rx(-pi/2) q[11];\n",
      "ry(pi/2) q[10];\n",
      "cx q[10], q[11];\n",
      "rz(2*1*$[2]) q[11];\n",
      "cx q[10], q[11];\n",
      "ry(-pi/2) q[10];\n",
      "rx(pi/2) q[11];\n",
      "\n",
      "// New operator from line 3\n",
      "ry(pi/2) q[10];\n",
      "cx q[10], q[11];\n",
      "rz(2*1*$[3]) q[11];\n",
      "cx q[10], q[11];\n",
      "ry(-pi/2) q[10];\n",
      "\n",
      "// New operator from line 4\n",
      "ry(pi/2) q[11];\n",
      "rx(-pi/2) q[10];\n",
      "cx q[10], q[11];\n",
      "rz(2*1*$[4]) q[11];\n",
      "cx q[10], q[11];\n",
      "rx(pi/2) q[10];\n",
      "ry(-pi/2) q[11];\n",
      "\n",
      "// New operator from line 5\n",
      "rx(-pi/2) q[11];\n",
      "rx(-pi/2) q[10];\n",
      "cx q[10], q[11];\n",
      "rz(2*1*$[5]) q[11];\n",
      "cx q[10], q[11];\n",
      "rx(pi/2) q[10];\n",
      "rx(pi/2) q[11];\n",
      "\n",
      "// New operator from line 6\n",
      "rx(-pi/2) q[10];\n",
      "cx q[10], q[11];\n",
      "rz(2*1*$[6]) q[11];\n",
      "cx q[10], q[11];\n",
      "rx(pi/2) q[10];\n",
      "\n",
      "// New operator from line 7\n",
      "ry(pi/2) q[11];\n",
      "cx q[10], q[11];\n",
      "rz(2*1*$[7]) q[11];\n",
      "cx q[10], q[11];\n",
      "ry(-pi/2) q[11];\n",
      "\n",
      "// New operator from line 8\n",
      "rx(-pi/2) q[11];\n",
      "cx q[10], q[11];\n",
      "rz(2*1*$[8]) q[11];\n",
      "cx q[10], q[11];\n",
      "rx(pi/2) q[11];\n",
      "\n",
      "// New operator from line 9\n",
      "cx q[10], q[11];\n",
      "rz(2*1*$[9]) q[11];\n",
      "cx q[10], q[11];\n",
      "\n",
      "// New operator from line 10\n",
      "ry(pi/2) q[11];\n",
      "ry(pi/2) q[9];\n",
      "cx q[9], q[11];\n",
      "rz(2*1*$[10]) q[11];\n",
      "cx q[9], q[11];\n",
      "ry(-pi/2) q[9];\n",
      "ry(-pi/2) q[11];\n",
      "\n"
     ]
    }
   ],
   "source": [
    "# You can try out different additional parameters\n",
    "# We parse the h2short.ansatz ansatz and store it in our calling directory of the notebook\n",
    "circ1 = qprs.parse_circuit(\"h2short.ansatz\", version=3, output_fn=\"./h2short.qasm\")\n",
    "print(circ1)"
   ]
  },
  {
   "cell_type": "markdown",
   "id": "9e05d84e-a631-4c11-ba17-ca68733cddb8",
   "metadata": {},
   "source": [
    "A lot of lines of code-like OpenQASM, considering the input file consisted of only ten operators working on twelve qubits. Imagine the OpenQASM files of ansätze consisting of thousands of operators. You can try yourself setting other parameters.\n",
    "\n",
    "Some remarks regarding the output. One can see the dollar sign followed by a number in brackets. These numbers are actually the grouping index. Trying to run this OpenQASM file on a simulator for example would result in an error. The optimizers used on real quantum computers on the other hand can deal with these variables and we use them to optimize less parameters, since commuting operators can be optimized together. Other than that, we can also see two numbers being multiplied before that. The second number is the parameter \\\\(\\theta_i\\\\) of the input file. The other number can be set using the multiplier and if not set explicitly is \\\\(2.0\\\\). We explain that in the following, as well as why there are so many rotations.\n",
    "\n",
    "But first, let's look at an actual circuit `test.ansatz`. We can use qiskits functionality to load circuits from OpenQASM files or strings (Additional qiskit modules may be required). I am using the `qasm3` module for v3 and the [`qiskit_qasm2` library](https://pypi.org/project/qiskit-qasm2/) for v2 and their respective `load` (for files) and `loads` (for strings) functionality. Note: To use visualization and/or jupyter notebooks the [visualization extra requirements](https://qiskit.org/documentation/stable/0.24/install.html) are recommended."
   ]
  },
  {
   "cell_type": "code",
   "execution_count": 6,
   "id": "eddc9007-1d3d-468d-98ab-53d161b75767",
   "metadata": {},
   "outputs": [
    {
     "data": {
      "image/png": "[encoded data removed]",
      "text/plain": [
       "<Figure size 538.128x284.278 with 1 Axes>"
      ]
     },
     "execution_count": 6,
     "metadata": {},
     "output_type": "execute_result"
    }
   ],
   "source": [
    "from qiskit import qasm3, BasicAer, transpile\n",
    "import qiskit_qasm2\n",
    "\n",
    "ansatz = qprs.parse_circuit(\"test.ansatz\", grouping=False, version=3)\n",
    "qc = qasm3.loads(ansatz)\n",
    "qc.draw('mpl')"
   ]
  },
  {
   "cell_type": "code",
   "execution_count": 7,
   "id": "fe719291-4974-41fb-a04e-eb4c591cb21d",
   "metadata": {},
   "outputs": [
    {
     "name": "stdout",
     "output_type": "stream",
     "text": [
      "{'11': 1024}\n"
     ]
    }
   ],
   "source": [
    "# Since there are no measurements, let's add them\n",
    "qc.measure([0,1], [0,1])\n",
    "\n",
    "backend = BasicAer.get_backend('qasm_simulator')\n",
    "tqc = transpile(qc, backend)\n",
    "counts = backend.run(tqc).result().get_counts()\n",
    "\n",
    "print(counts)"
   ]
  },
  {
   "cell_type": "markdown",
   "id": "f492dd16-6f64-48cd-a28b-7186dc06bb0a",
   "metadata": {},
   "source": [
    "We can see that we obtain the state \\\\(\\ket{11}\\\\) in all runs. In the next chapter we see the mathematical desciption of this specific circuit and one can calculate the result on paper. When using \\\\(\\theta = \\frac{\\pi}{2}\\\\) the amplitude of the state \\\\(\\ket{11}\\\\) corresponds to \\\\(-i\\\\) and therefore the probability to obtain this state is \\\\(|-i|^2 = 1\\\\).\n",
    "\n",
    "This way we can use the library in a qiskit workflow for example to simplify the circuit generation."
   ]
  },
  {
   "cell_type": "markdown",
   "id": "5766a68b-548d-451e-800f-fd74f354fc5c",
   "metadata": {},
   "source": [
    "## Circuit Implementation\n",
    "\n",
    "Imagine the simple input *ZZ*, who's exponentiation is given by \\\\(\\exp\\{-i \\theta \\sigma_z \\otimes \\sigma_z\\}\\\\). To implement this operator in a circuit we can use *CNOT* and the rotation gate along the z-axis, simply sandwiching the rotation between *CNOT* gates. It is best understood when looking at the matrix form of the gates and operator:\n",
    "\n",
    "$$ \\exp{-i\\theta \\sigma_z \\otimes \\sigma_z} = \\cos\\left(\\theta\\right) \\cdot I - i \\sin\\left(\\theta\\right) \\sigma_z \\otimes \\sigma_z = \n",
    "\\begin{pmatrix}\n",
    "e^{-i\\theta} & 0 & 0 & 0 \\\\\n",
    "0 & e^{i\\theta} & 0 & 0 \\\\\n",
    "0 & 0 & e^{i\\theta} & 0 \\\\\n",
    "0 & 0 & 0 & e^{-i\\theta} \n",
    "\\end{pmatrix} $$\n",
    "\n",
    "which is the matrix form of the operator, obtained by using Euler's formula, we are trying to implement in a circuit. Now, looking at the sandwiched rotation we obtain the same operator\n",
    "\n",
    "$$ \\begin{pmatrix}\n",
    "1 & 0 & 0 & 0 \\\\\n",
    "0 & 1 & 0 & 0 \\\\\n",
    "0 & 0 & 0 & 1 \\\\\n",
    "0 & 0 & 1 & 0 \n",
    "\\end{pmatrix}\n",
    "\\begin{pmatrix}\n",
    "e^{-i\\theta} & 0 & 0 & 0 \\\\\n",
    "0 & e^{i\\theta} & 0 & 0 \\\\\n",
    "0 & 0 & e^{-i\\theta} & 0 \\\\\n",
    "0 & 0 & 0 & e^{i\\theta} \n",
    "\\end{pmatrix}\n",
    "\\begin{pmatrix}\n",
    "1 & 0 & 0 & 0 \\\\\n",
    "0 & 1 & 0 & 0 \\\\\n",
    "0 & 0 & 0 & 1 \\\\\n",
    "0 & 0 & 1 & 0 \n",
    "\\end{pmatrix} = \n",
    "\\begin{pmatrix}\n",
    "e^{-i\\theta} & 0 & 0 & 0 \\\\\n",
    "0 & e^{i\\theta} & 0 & 0 \\\\\n",
    "0 & 0 & e^{i\\theta} & 0 \\\\\n",
    "0 & 0 & 0 & e^{-i\\theta} \n",
    "\\end{pmatrix}\n",
    "$$\n",
    "\n",
    "This is the most basic example, since we are only working in our computational basis, the z-axis. If other Pauli operations are present in the operator we need to rotate beforehand to actually perform the operator in the right computational basis. For example imagine another simple operator *XX*, doing the same comparison as before, we want to obtain following operator in matrix form\n",
    "\n",
    "$$e^{-i\\theta \\sigma_x \\otimes \\sigma_x} = \n",
    "\\begin{pmatrix}\n",
    "\\cos(\\theta) & 0 & 0 & -i \\sin(\\theta) \\\\\n",
    "0 & \\cos(\\theta) & -i \\sin(\\theta) & 0 \\\\\n",
    "0 & -i \\sin(\\theta) & \\cos(\\theta) & 0 \\\\\n",
    "-i \\sin(\\theta) & 0 & 0 & \\cos(\\theta)\n",
    "\\end{pmatrix} \\\\\n",
    "$$\n",
    "\n",
    "and therefore we use parameterized rotation along the y-axis by \\\\(\\frac{\\pi}{2}\\\\) counterclockwise before and clockwise after the parameterized rotation in z-basis sandwiched by *CNOT* gates, given by the matrices\n",
    "\n",
    "$$R_Y(\\frac{\\pi}{2}) \\otimes R_Y(\\frac{\\pi}{2}) = \n",
    "\\begin{pmatrix}\n",
    "\\frac{1}{2} & -\\frac{1}{2} & -\\frac{1}{2} & \\frac{1}{2} \\\\\n",
    "\\frac{1}{2} & \\frac{1}{2} & -\\frac{1}{2} & -\\frac{1}{2} \\\\\n",
    "\\frac{1}{2} & -\\frac{1}{2} & \\frac{1}{2} & -\\frac{1}{2} \\\\\n",
    "\\frac{1}{2} & \\frac{1}{2} & \\frac{1}{2} & \\frac{1}{2} \n",
    "\\end{pmatrix} \\\\ \\quad ; \\quad\n",
    "R_Y(-\\frac{\\pi}{2}) \\otimes R_Y(-\\frac{\\pi}{2}) = \n",
    "\\begin{pmatrix}\n",
    "\\frac{1}{2} & \\frac{1}{2} & \\frac{1}{2} & \\frac{1}{2} \\\\\n",
    "-\\frac{1}{2} & \\frac{1}{2} & -\\frac{1}{2} & \\frac{1}{2} \\\\\n",
    "-\\frac{1}{2} & -\\frac{1}{2} & \\frac{1}{2} & \\frac{1}{2} \\\\\n",
    "\\frac{1}{2} & -\\frac{1}{2} & -\\frac{1}{2} & \\frac{1}{2} \n",
    "\\end{pmatrix}\n",
    "$$\n",
    "\n",
    "We use the matrix result for the sandwiched rotation along the z-axis between *CNOT* gates to obtain\n",
    "\n",
    "$$\n",
    "\\begin{pmatrix}\n",
    "\\frac{1}{2} & -\\frac{1}{2} & -\\frac{1}{2} & \\frac{1}{2} \\\\\n",
    "\\frac{1}{2} & \\frac{1}{2} & -\\frac{1}{2} & -\\frac{1}{2} \\\\\n",
    "\\frac{1}{2} & -\\frac{1}{2} & \\frac{1}{2} & -\\frac{1}{2} \\\\\n",
    "\\frac{1}{2} & \\frac{1}{2} & \\frac{1}{2} & \\frac{1}{2} \n",
    "\\end{pmatrix} \n",
    "\\begin{pmatrix}\n",
    "e^{-i\\theta} & 0 & 0 & 0 \\\\\n",
    "0 & e^{i\\theta} & 0 & 0 \\\\\n",
    "0 & 0 & e^{i\\theta} & 0 \\\\\n",
    "0 & 0 & 0 & e^{-i\\theta} \n",
    "\\end{pmatrix}\n",
    "\\begin{pmatrix}\n",
    "\\frac{1}{2} & \\frac{1}{2} & \\frac{1}{2} & \\frac{1}{2} \\\\\n",
    "-\\frac{1}{2} & \\frac{1}{2} & -\\frac{1}{2} & \\frac{1}{2} \\\\\n",
    "-\\frac{1}{2} & -\\frac{1}{2} & \\frac{1}{2} & \\frac{1}{2} \\\\\n",
    "\\frac{1}{2} & -\\frac{1}{2} & -\\frac{1}{2} & \\frac{1}{2} \n",
    "\\end{pmatrix} \\\\\n",
    "= \n",
    "\\begin{pmatrix}\n",
    "\\cos(\\theta) & 0 & 0 & -i \\sin(\\theta) \\\\\n",
    "0 & \\cos(\\theta) & -i \\sin(\\theta) & 0 \\\\\n",
    "0 & -i \\sin(\\theta) & \\cos(\\theta) & 0 \\\\\n",
    "-i \\sin(\\theta) & 0 & 0 & \\cos(\\theta)\n",
    "\\end{pmatrix} \\\\\n",
    "$$\n",
    "\n",
    "and we can see that indeed the operator is the same. This actually means, that the universal rotation gate or the rotation gates along the axis and the *CNOT* present in the hardware implementation of the quantum device used are sufficient. State of the art quantum computers may even optimize the circuit to their specific hardware capabilities, but this form is the most general and applicable using the fewest and most basic gates.\n",
    "\n",
    "For the Pauli-Y operation we perform the rotation along the x-axis clockwise before and counterclockwise afterward. Feel free to calculate the *YY* operator on your own to see that the result is indeed the same. \n",
    "\n",
    "This way, we have shown that all arbitrary combinations of Pauli operations in an operator can be implemented in a quantum circuit using rotation and *CNOT* gates, just like the library does.\n",
    "\n",
    "Furthermore, looking at the parameterized rotation along the z-axis we see that the rotation is actually parameterized by \\\\(2\\theta\\\\). This is the reason for the multiplier to be set to \\\\(2.0\\\\) by default. Other values are also possible and can be set by the multiplier parameter in the library function. One has to be aware of what he is actually trying to achieve by doing so."
   ]
  }
 ],
 "metadata": {
  "kernelspec": {
   "display_name": "Python 3 (ipykernel)",
   "language": "python",
   "name": "python3"
  },
  "language_info": {
   "codemirror_mode": {
    "name": "ipython",
    "version": 3
   },
   "file_extension": ".py",
   "mimetype": "text/x-python",
   "name": "python",
   "nbconvert_exporter": "python",
   "pygments_lexer": "ipython3",
   "version": "3.10.9"
  }
 },
 "nbformat": 4,
 "nbformat_minor": 5
}
